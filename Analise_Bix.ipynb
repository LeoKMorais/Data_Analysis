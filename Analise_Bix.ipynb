{
 "cells": [
  {
   "cell_type": "markdown",
   "metadata": {},
   "source": [
    "#### Será realizada a análise de uma base de dados disponibilizada pela Bix no arquivo excel 'Bix.xls'. O arquivo faz referência a uma loja fictícia, com produtos, clientes e vendas."
   ]
  },
  {
   "cell_type": "markdown",
   "metadata": {},
   "source": [
    "Primeiramente, importamos as bibliotecas necessárias:"
   ]
  },
  {
   "cell_type": "code",
   "execution_count": 5,
   "metadata": {},
   "outputs": [],
   "source": [
    "import matplotlib.pyplot as plt\n",
    "import pandas as pd\n",
    "import numpy as np\n",
    "from datetime import datetime, date\n"
   ]
  },
  {
   "cell_type": "markdown",
   "metadata": {},
   "source": [
    "É importada a planilha 'Bix' e são gerados dataframes com base em cada aba da planilha:"
   ]
  },
  {
   "cell_type": "code",
   "execution_count": 7,
   "metadata": {},
   "outputs": [],
   "source": [
    "xls=pd.ExcelFile('Bix.xlsx')\n",
    "df_bruto=pd.read_excel(xls,'BaseBruta',skiprows=3)\n",
    "df=pd.read_excel(xls,'Vendas',skiprows=5)"
   ]
  },
  {
   "cell_type": "markdown",
   "metadata": {},
   "source": [
    "São dropadas então as colunas desnecessárias:"
   ]
  },
  {
   "cell_type": "code",
   "execution_count": 8,
   "metadata": {},
   "outputs": [],
   "source": [
    "df_bruto.drop('Unnamed: 0',axis=1,inplace=True)\n",
    "df_bruto.drop('VlUnitario',axis=1,inplace=True)\n",
    "df_bruto.drop('Desconto',axis=1,inplace=True)\n",
    "df.drop('Unnamed: 0',axis=1,inplace=True)"
   ]
  },
  {
   "cell_type": "markdown",
   "metadata": {},
   "source": [
    "É criado um dataset completo com o merge dos dois datasets criados anteriormente:"
   ]
  },
  {
   "cell_type": "code",
   "execution_count": 9,
   "metadata": {},
   "outputs": [
    {
     "data": {
      "text/html": [
       "<div>\n",
       "<style scoped>\n",
       "    .dataframe tbody tr th:only-of-type {\n",
       "        vertical-align: middle;\n",
       "    }\n",
       "\n",
       "    .dataframe tbody tr th {\n",
       "        vertical-align: top;\n",
       "    }\n",
       "\n",
       "    .dataframe thead th {\n",
       "        text-align: right;\n",
       "    }\n",
       "</style>\n",
       "<table border=\"1\" class=\"dataframe\">\n",
       "  <thead>\n",
       "    <tr style=\"text-align: right;\">\n",
       "      <th></th>\n",
       "      <th>ID</th>\n",
       "      <th>ProdutoID</th>\n",
       "      <th>Produto</th>\n",
       "      <th>Tamanho</th>\n",
       "      <th>ClienteID</th>\n",
       "      <th>ClienteCidade</th>\n",
       "      <th>ClienteUF</th>\n",
       "      <th>DataNascimentoCliente</th>\n",
       "      <th>SexoCliente</th>\n",
       "      <th>LojaID</th>\n",
       "      <th>...</th>\n",
       "      <th>Data</th>\n",
       "      <th>Qtd</th>\n",
       "      <th>Desconto</th>\n",
       "      <th>VlUnitario</th>\n",
       "      <th>Venda Bruta</th>\n",
       "      <th>Valor do Desconto</th>\n",
       "      <th>Venda Líquida</th>\n",
       "      <th>DataNascimento_Cliente</th>\n",
       "      <th>Idade</th>\n",
       "      <th>Classificação Etária</th>\n",
       "    </tr>\n",
       "  </thead>\n",
       "  <tbody>\n",
       "    <tr>\n",
       "      <th>0</th>\n",
       "      <td>80260d682079b6090c8285b398c50d97</td>\n",
       "      <td>002552c0663708129c0019cc97552d7d3</td>\n",
       "      <td>Tempestade</td>\n",
       "      <td>G</td>\n",
       "      <td>14001</td>\n",
       "      <td>Curitiba</td>\n",
       "      <td>PR</td>\n",
       "      <td>1985-06-28</td>\n",
       "      <td>Homem</td>\n",
       "      <td>4</td>\n",
       "      <td>...</td>\n",
       "      <td>2018-12-10</td>\n",
       "      <td>1</td>\n",
       "      <td>0.08</td>\n",
       "      <td>249.2</td>\n",
       "      <td>NaN</td>\n",
       "      <td>NaN</td>\n",
       "      <td>NaN</td>\n",
       "      <td>NaN</td>\n",
       "      <td>NaN</td>\n",
       "      <td>NaN</td>\n",
       "    </tr>\n",
       "    <tr>\n",
       "      <th>1</th>\n",
       "      <td>3275736da1234f55d52bdf09d86b93bc</td>\n",
       "      <td>001b237c0e9bb435f2e54071129237e93</td>\n",
       "      <td>Thanos</td>\n",
       "      <td>G</td>\n",
       "      <td>14001</td>\n",
       "      <td>Curitiba</td>\n",
       "      <td>PR</td>\n",
       "      <td>1985-06-28</td>\n",
       "      <td>Homem</td>\n",
       "      <td>4</td>\n",
       "      <td>...</td>\n",
       "      <td>2019-04-25</td>\n",
       "      <td>1</td>\n",
       "      <td>0.10</td>\n",
       "      <td>162.4</td>\n",
       "      <td>NaN</td>\n",
       "      <td>NaN</td>\n",
       "      <td>NaN</td>\n",
       "      <td>NaN</td>\n",
       "      <td>NaN</td>\n",
       "      <td>NaN</td>\n",
       "    </tr>\n",
       "    <tr>\n",
       "      <th>2</th>\n",
       "      <td>f3513eec8f1434b5b7e04ddf3598df40</td>\n",
       "      <td>00066f42aeeb9f3007548bb9d3f33c381</td>\n",
       "      <td>Capitão América</td>\n",
       "      <td>P</td>\n",
       "      <td>14001</td>\n",
       "      <td>Curitiba</td>\n",
       "      <td>PR</td>\n",
       "      <td>1985-06-28</td>\n",
       "      <td>Homem</td>\n",
       "      <td>4</td>\n",
       "      <td>...</td>\n",
       "      <td>2019-07-17</td>\n",
       "      <td>1</td>\n",
       "      <td>0.10</td>\n",
       "      <td>194.6</td>\n",
       "      <td>NaN</td>\n",
       "      <td>NaN</td>\n",
       "      <td>NaN</td>\n",
       "      <td>NaN</td>\n",
       "      <td>NaN</td>\n",
       "      <td>NaN</td>\n",
       "    </tr>\n",
       "    <tr>\n",
       "      <th>3</th>\n",
       "      <td>7180475b60fe6bbbde424d39704a1177</td>\n",
       "      <td>001b72dfd63e9833e8c02742adf472e33</td>\n",
       "      <td>Wolverine</td>\n",
       "      <td>G</td>\n",
       "      <td>14002</td>\n",
       "      <td>Florianópolis</td>\n",
       "      <td>SC</td>\n",
       "      <td>1987-01-10</td>\n",
       "      <td>Homem</td>\n",
       "      <td>1</td>\n",
       "      <td>...</td>\n",
       "      <td>2018-04-10</td>\n",
       "      <td>2</td>\n",
       "      <td>0.10</td>\n",
       "      <td>201.6</td>\n",
       "      <td>NaN</td>\n",
       "      <td>NaN</td>\n",
       "      <td>NaN</td>\n",
       "      <td>NaN</td>\n",
       "      <td>NaN</td>\n",
       "      <td>NaN</td>\n",
       "    </tr>\n",
       "    <tr>\n",
       "      <th>4</th>\n",
       "      <td>76600853a200fe87e141adae6b35674c</td>\n",
       "      <td>00210e41887c2a8ef9f791ebc780cc363</td>\n",
       "      <td>Naruto</td>\n",
       "      <td>G</td>\n",
       "      <td>14002</td>\n",
       "      <td>Florianópolis</td>\n",
       "      <td>SC</td>\n",
       "      <td>1987-01-10</td>\n",
       "      <td>Homem</td>\n",
       "      <td>1</td>\n",
       "      <td>...</td>\n",
       "      <td>2019-01-21</td>\n",
       "      <td>1</td>\n",
       "      <td>0.10</td>\n",
       "      <td>406.0</td>\n",
       "      <td>NaN</td>\n",
       "      <td>NaN</td>\n",
       "      <td>NaN</td>\n",
       "      <td>NaN</td>\n",
       "      <td>NaN</td>\n",
       "      <td>NaN</td>\n",
       "    </tr>\n",
       "  </tbody>\n",
       "</table>\n",
       "<p>5 rows × 22 columns</p>\n",
       "</div>"
      ],
      "text/plain": [
       "                                 ID                          ProdutoID  \\\n",
       "0  80260d682079b6090c8285b398c50d97  002552c0663708129c0019cc97552d7d3   \n",
       "1  3275736da1234f55d52bdf09d86b93bc  001b237c0e9bb435f2e54071129237e93   \n",
       "2  f3513eec8f1434b5b7e04ddf3598df40  00066f42aeeb9f3007548bb9d3f33c381   \n",
       "3  7180475b60fe6bbbde424d39704a1177  001b72dfd63e9833e8c02742adf472e33   \n",
       "4  76600853a200fe87e141adae6b35674c  00210e41887c2a8ef9f791ebc780cc363   \n",
       "\n",
       "           Produto Tamanho  ClienteID  ClienteCidade ClienteUF  \\\n",
       "0       Tempestade       G      14001       Curitiba        PR   \n",
       "1           Thanos       G      14001       Curitiba        PR   \n",
       "2  Capitão América       P      14001       Curitiba        PR   \n",
       "3        Wolverine       G      14002  Florianópolis        SC   \n",
       "4           Naruto       G      14002  Florianópolis        SC   \n",
       "\n",
       "  DataNascimentoCliente SexoCliente  LojaID  ...       Data Qtd Desconto  \\\n",
       "0            1985-06-28       Homem       4  ... 2018-12-10   1     0.08   \n",
       "1            1985-06-28       Homem       4  ... 2019-04-25   1     0.10   \n",
       "2            1985-06-28       Homem       4  ... 2019-07-17   1     0.10   \n",
       "3            1987-01-10       Homem       1  ... 2018-04-10   2     0.10   \n",
       "4            1987-01-10       Homem       1  ... 2019-01-21   1     0.10   \n",
       "\n",
       "   VlUnitario  Venda Bruta  Valor do Desconto  Venda Líquida  \\\n",
       "0       249.2          NaN                NaN            NaN   \n",
       "1       162.4          NaN                NaN            NaN   \n",
       "2       194.6          NaN                NaN            NaN   \n",
       "3       201.6          NaN                NaN            NaN   \n",
       "4       406.0          NaN                NaN            NaN   \n",
       "\n",
       "   DataNascimento_Cliente  Idade  Classificação Etária  \n",
       "0                     NaN    NaN                   NaN  \n",
       "1                     NaN    NaN                   NaN  \n",
       "2                     NaN    NaN                   NaN  \n",
       "3                     NaN    NaN                   NaN  \n",
       "4                     NaN    NaN                   NaN  \n",
       "\n",
       "[5 rows x 22 columns]"
      ]
     },
     "execution_count": 9,
     "metadata": {},
     "output_type": "execute_result"
    }
   ],
   "source": [
    "full_df=pd.merge(df_bruto,df,how='outer',on=['ID','ProdutoID','Produto','Tamanho','ClienteID','LojaID','Loja','UF','Data','Qtd'])\n",
    "full_df.head(5)"
   ]
  },
  {
   "cell_type": "markdown",
   "metadata": {},
   "source": [
    "Percebe-se que há colunas não preenchidas no dataset. Para o preenchimento das colunas de idade e faixa de idade são criadas as duas funções abaixo:"
   ]
  },
  {
   "cell_type": "code",
   "execution_count": 39,
   "metadata": {},
   "outputs": [],
   "source": [
    "def faixa(idade):\n",
    "    if (idade>=0 and idade<11):\n",
    "        return 'Infantil'\n",
    "    elif (idade>=11 and idade<21):\n",
    "        return 'Adolescente'\n",
    "    elif (idade>=21 and idade<61):\n",
    "        return 'Adulto'\n",
    "    elif (idade>=61):\n",
    "        return 'Idoso'"
   ]
  },
  {
   "cell_type": "code",
   "execution_count": 11,
   "metadata": {},
   "outputs": [],
   "source": [
    "def id(nasc,hoje):\n",
    "    return (hoje-nasc).days//365"
   ]
  },
  {
   "cell_type": "markdown",
   "metadata": {},
   "source": [
    "Todas as colunas vazias são então preenchidas:"
   ]
  },
  {
   "cell_type": "code",
   "execution_count": 40,
   "metadata": {},
   "outputs": [],
   "source": [
    "full_df['Venda Bruta']=full_df['Qtd']*full_df['VlUnitario']\n",
    "full_df['Valor do Desconto']=full_df['Desconto']*full_df['VlUnitario']\n",
    "full_df['Venda Líquida']=full_df['Venda Bruta']-full_df['Valor do Desconto']\n",
    "full_df['DataNascimento_Cliente']=full_df['DataNascimentoCliente']\n",
    "full_df['Idade'] = full_df.apply(lambda x: id(x.DataNascimentoCliente, x.Data), axis=1)\n",
    "full_df['Classificação Etária']=full_df['Idade'].apply(faixa)\n"
   ]
  },
  {
   "cell_type": "code",
   "execution_count": 41,
   "metadata": {},
   "outputs": [
    {
     "data": {
      "text/html": [
       "<div>\n",
       "<style scoped>\n",
       "    .dataframe tbody tr th:only-of-type {\n",
       "        vertical-align: middle;\n",
       "    }\n",
       "\n",
       "    .dataframe tbody tr th {\n",
       "        vertical-align: top;\n",
       "    }\n",
       "\n",
       "    .dataframe thead th {\n",
       "        text-align: right;\n",
       "    }\n",
       "</style>\n",
       "<table border=\"1\" class=\"dataframe\">\n",
       "  <thead>\n",
       "    <tr style=\"text-align: right;\">\n",
       "      <th></th>\n",
       "      <th>ID</th>\n",
       "      <th>ProdutoID</th>\n",
       "      <th>Produto</th>\n",
       "      <th>Tamanho</th>\n",
       "      <th>ClienteID</th>\n",
       "      <th>ClienteCidade</th>\n",
       "      <th>ClienteUF</th>\n",
       "      <th>DataNascimentoCliente</th>\n",
       "      <th>SexoCliente</th>\n",
       "      <th>LojaID</th>\n",
       "      <th>...</th>\n",
       "      <th>Data</th>\n",
       "      <th>Qtd</th>\n",
       "      <th>Desconto</th>\n",
       "      <th>VlUnitario</th>\n",
       "      <th>Venda Bruta</th>\n",
       "      <th>Valor do Desconto</th>\n",
       "      <th>Venda Líquida</th>\n",
       "      <th>DataNascimento_Cliente</th>\n",
       "      <th>Idade</th>\n",
       "      <th>Classificação Etária</th>\n",
       "    </tr>\n",
       "  </thead>\n",
       "  <tbody>\n",
       "    <tr>\n",
       "      <th>0</th>\n",
       "      <td>80260d682079b6090c8285b398c50d97</td>\n",
       "      <td>002552c0663708129c0019cc97552d7d3</td>\n",
       "      <td>Tempestade</td>\n",
       "      <td>G</td>\n",
       "      <td>14001</td>\n",
       "      <td>Curitiba</td>\n",
       "      <td>PR</td>\n",
       "      <td>1985-06-28</td>\n",
       "      <td>Homem</td>\n",
       "      <td>4</td>\n",
       "      <td>...</td>\n",
       "      <td>2018-12-10</td>\n",
       "      <td>1</td>\n",
       "      <td>0.08</td>\n",
       "      <td>249.2</td>\n",
       "      <td>249.2</td>\n",
       "      <td>19.936</td>\n",
       "      <td>229.264</td>\n",
       "      <td>1985-06-28</td>\n",
       "      <td>33</td>\n",
       "      <td>Adulto</td>\n",
       "    </tr>\n",
       "    <tr>\n",
       "      <th>1</th>\n",
       "      <td>3275736da1234f55d52bdf09d86b93bc</td>\n",
       "      <td>001b237c0e9bb435f2e54071129237e93</td>\n",
       "      <td>Thanos</td>\n",
       "      <td>G</td>\n",
       "      <td>14001</td>\n",
       "      <td>Curitiba</td>\n",
       "      <td>PR</td>\n",
       "      <td>1985-06-28</td>\n",
       "      <td>Homem</td>\n",
       "      <td>4</td>\n",
       "      <td>...</td>\n",
       "      <td>2019-04-25</td>\n",
       "      <td>1</td>\n",
       "      <td>0.10</td>\n",
       "      <td>162.4</td>\n",
       "      <td>162.4</td>\n",
       "      <td>16.240</td>\n",
       "      <td>146.160</td>\n",
       "      <td>1985-06-28</td>\n",
       "      <td>33</td>\n",
       "      <td>Adulto</td>\n",
       "    </tr>\n",
       "    <tr>\n",
       "      <th>2</th>\n",
       "      <td>f3513eec8f1434b5b7e04ddf3598df40</td>\n",
       "      <td>00066f42aeeb9f3007548bb9d3f33c381</td>\n",
       "      <td>Capitão América</td>\n",
       "      <td>P</td>\n",
       "      <td>14001</td>\n",
       "      <td>Curitiba</td>\n",
       "      <td>PR</td>\n",
       "      <td>1985-06-28</td>\n",
       "      <td>Homem</td>\n",
       "      <td>4</td>\n",
       "      <td>...</td>\n",
       "      <td>2019-07-17</td>\n",
       "      <td>1</td>\n",
       "      <td>0.10</td>\n",
       "      <td>194.6</td>\n",
       "      <td>194.6</td>\n",
       "      <td>19.460</td>\n",
       "      <td>175.140</td>\n",
       "      <td>1985-06-28</td>\n",
       "      <td>34</td>\n",
       "      <td>Adulto</td>\n",
       "    </tr>\n",
       "    <tr>\n",
       "      <th>3</th>\n",
       "      <td>7180475b60fe6bbbde424d39704a1177</td>\n",
       "      <td>001b72dfd63e9833e8c02742adf472e33</td>\n",
       "      <td>Wolverine</td>\n",
       "      <td>G</td>\n",
       "      <td>14002</td>\n",
       "      <td>Florianópolis</td>\n",
       "      <td>SC</td>\n",
       "      <td>1987-01-10</td>\n",
       "      <td>Homem</td>\n",
       "      <td>1</td>\n",
       "      <td>...</td>\n",
       "      <td>2018-04-10</td>\n",
       "      <td>2</td>\n",
       "      <td>0.10</td>\n",
       "      <td>201.6</td>\n",
       "      <td>403.2</td>\n",
       "      <td>20.160</td>\n",
       "      <td>383.040</td>\n",
       "      <td>1987-01-10</td>\n",
       "      <td>31</td>\n",
       "      <td>Adulto</td>\n",
       "    </tr>\n",
       "    <tr>\n",
       "      <th>4</th>\n",
       "      <td>76600853a200fe87e141adae6b35674c</td>\n",
       "      <td>00210e41887c2a8ef9f791ebc780cc363</td>\n",
       "      <td>Naruto</td>\n",
       "      <td>G</td>\n",
       "      <td>14002</td>\n",
       "      <td>Florianópolis</td>\n",
       "      <td>SC</td>\n",
       "      <td>1987-01-10</td>\n",
       "      <td>Homem</td>\n",
       "      <td>1</td>\n",
       "      <td>...</td>\n",
       "      <td>2019-01-21</td>\n",
       "      <td>1</td>\n",
       "      <td>0.10</td>\n",
       "      <td>406.0</td>\n",
       "      <td>406.0</td>\n",
       "      <td>40.600</td>\n",
       "      <td>365.400</td>\n",
       "      <td>1987-01-10</td>\n",
       "      <td>32</td>\n",
       "      <td>Adulto</td>\n",
       "    </tr>\n",
       "  </tbody>\n",
       "</table>\n",
       "<p>5 rows × 22 columns</p>\n",
       "</div>"
      ],
      "text/plain": [
       "                                 ID                          ProdutoID  \\\n",
       "0  80260d682079b6090c8285b398c50d97  002552c0663708129c0019cc97552d7d3   \n",
       "1  3275736da1234f55d52bdf09d86b93bc  001b237c0e9bb435f2e54071129237e93   \n",
       "2  f3513eec8f1434b5b7e04ddf3598df40  00066f42aeeb9f3007548bb9d3f33c381   \n",
       "3  7180475b60fe6bbbde424d39704a1177  001b72dfd63e9833e8c02742adf472e33   \n",
       "4  76600853a200fe87e141adae6b35674c  00210e41887c2a8ef9f791ebc780cc363   \n",
       "\n",
       "           Produto Tamanho  ClienteID  ClienteCidade ClienteUF  \\\n",
       "0       Tempestade       G      14001       Curitiba        PR   \n",
       "1           Thanos       G      14001       Curitiba        PR   \n",
       "2  Capitão América       P      14001       Curitiba        PR   \n",
       "3        Wolverine       G      14002  Florianópolis        SC   \n",
       "4           Naruto       G      14002  Florianópolis        SC   \n",
       "\n",
       "  DataNascimentoCliente SexoCliente  LojaID  ...       Data Qtd Desconto  \\\n",
       "0            1985-06-28       Homem       4  ... 2018-12-10   1     0.08   \n",
       "1            1985-06-28       Homem       4  ... 2019-04-25   1     0.10   \n",
       "2            1985-06-28       Homem       4  ... 2019-07-17   1     0.10   \n",
       "3            1987-01-10       Homem       1  ... 2018-04-10   2     0.10   \n",
       "4            1987-01-10       Homem       1  ... 2019-01-21   1     0.10   \n",
       "\n",
       "   VlUnitario  Venda Bruta  Valor do Desconto  Venda Líquida  \\\n",
       "0       249.2        249.2             19.936        229.264   \n",
       "1       162.4        162.4             16.240        146.160   \n",
       "2       194.6        194.6             19.460        175.140   \n",
       "3       201.6        403.2             20.160        383.040   \n",
       "4       406.0        406.0             40.600        365.400   \n",
       "\n",
       "   DataNascimento_Cliente  Idade Classificação Etária  \n",
       "0              1985-06-28     33               Adulto  \n",
       "1              1985-06-28     33               Adulto  \n",
       "2              1985-06-28     34               Adulto  \n",
       "3              1987-01-10     31               Adulto  \n",
       "4              1987-01-10     32               Adulto  \n",
       "\n",
       "[5 rows x 22 columns]"
      ]
     },
     "execution_count": 41,
     "metadata": {},
     "output_type": "execute_result"
    }
   ],
   "source": [
    "full_df.head(5)"
   ]
  },
  {
   "cell_type": "markdown",
   "metadata": {},
   "source": [
    "## ANÁLISES"
   ]
  },
  {
   "cell_type": "markdown",
   "metadata": {},
   "source": [
    "Com todos os dados preenchidos, são verificados primeiramente os valores básicos da base:"
   ]
  },
  {
   "cell_type": "markdown",
   "metadata": {},
   "source": [
    "    Primeiramente, o valor total das vendas brutas da loja:"
   ]
  },
  {
   "cell_type": "code",
   "execution_count": 14,
   "metadata": {},
   "outputs": [
    {
     "data": {
      "text/plain": [
       "7688893.800000001"
      ]
     },
     "execution_count": 14,
     "metadata": {},
     "output_type": "execute_result"
    }
   ],
   "source": [
    "full_df['Venda Bruta'].sum()"
   ]
  },
  {
   "cell_type": "markdown",
   "metadata": {},
   "source": [
    "    É possível verificar também o valor total dos descontos dados ao longo do período:"
   ]
  },
  {
   "cell_type": "code",
   "execution_count": 15,
   "metadata": {},
   "outputs": [
    {
     "data": {
      "text/plain": [
       "675315.1440000001"
      ]
     },
     "execution_count": 15,
     "metadata": {},
     "output_type": "execute_result"
    }
   ],
   "source": [
    "full_df['Valor do Desconto'].sum()"
   ]
  },
  {
   "cell_type": "markdown",
   "metadata": {},
   "source": [
    "    Com o valor das vendas brutas e o total de descontos concedidos, é possível verificar então o valor líquido de vendas de nossa loja:"
   ]
  },
  {
   "cell_type": "code",
   "execution_count": 16,
   "metadata": {},
   "outputs": [
    {
     "data": {
      "text/plain": [
       "7013578.6559999995"
      ]
     },
     "execution_count": 16,
     "metadata": {},
     "output_type": "execute_result"
    }
   ],
   "source": [
    "full_df['Venda Líquida'].sum()"
   ]
  },
  {
   "cell_type": "markdown",
   "metadata": {},
   "source": [
    "    Verificado os valores absolutos de vendas, faremos análises mais específicas. Por exemplo, é possível verificar o valor das vendas de uma loja específica ('Online', por exemplo), e verificar a participação de cada loja nas vendas com um gráfico de pizza:"
   ]
  },
  {
   "cell_type": "code",
   "execution_count": 17,
   "metadata": {},
   "outputs": [
    {
     "data": {
      "text/plain": [
       "Venda Líquida    198551.108\n",
       "dtype: float64"
      ]
     },
     "execution_count": 17,
     "metadata": {},
     "output_type": "execute_result"
    }
   ],
   "source": [
    "full_df[full_df['Loja']=='Online'][['Venda Líquida']].sum()"
   ]
  },
  {
   "cell_type": "code",
   "execution_count": 30,
   "metadata": {},
   "outputs": [
    {
     "data": {
      "text/plain": [
       "<matplotlib.legend.Legend at 0x1c59e27d040>"
      ]
     },
     "execution_count": 30,
     "metadata": {},
     "output_type": "execute_result"
    },
    {
     "data": {
      "image/png": "[encoded data removed]",
      "text/plain": [
       "<Figure size 432x288 with 1 Axes>"
      ]
     },
     "metadata": {},
     "output_type": "display_data"
    }
   ],
   "source": [
    "plt.pie(full_df['Loja'].value_counts(), data=df, autopct='%1.0f%%',radius=1.5)\n",
    "plt.legend(labels=['Florianópolis', 'Rio de Janeiro', 'Porto Alegre','Curitiba','São Paulo','Belo Horizonte','Online'], bbox_to_anchor=(1.65, 1))"
   ]
  },
  {
   "cell_type": "markdown",
   "metadata": {},
   "source": [
    "    É possível também verificar qual o total líquido de vendas para cada produto. A visualização pode ser feita com um gráfico de barras:"
   ]
  },
  {
   "cell_type": "code",
   "execution_count": 102,
   "metadata": {},
   "outputs": [
    {
     "data": {
      "text/plain": [
       "Produto\n",
       "Thor                   149460.192\n",
       "Coringa                150741.584\n",
       "Dragon Ball Z          180380.928\n",
       "Darth Vader            192311.560\n",
       "Mulher-Maravilha       196701.232\n",
       "Pokemon Go Squirtle    204467.200\n",
       "Homer Simpsons         215173.280\n",
       "Thanos                 215758.144\n",
       "Rick Morty             249222.176\n",
       "Capitão América        250162.192\n",
       "Pantera Negra          259805.952\n",
       "Wolverine              266950.656\n",
       "Flash                  270184.096\n",
       "Iron Man               287519.400\n",
       "Super Mario            287889.084\n",
       "Bazinga                290620.512\n",
       "Capitã Marvel          305064.144\n",
       "Batman                 306801.712\n",
       "Tempestade             315093.464\n",
       "League Legends         316242.556\n",
       "Deadpool               345335.536\n",
       "Ciclope                350424.536\n",
       "Naruto                 515660.600\n",
       "BIXDream               891607.920\n",
       "Name: Venda Líquida, dtype: float64"
      ]
     },
     "execution_count": 102,
     "metadata": {},
     "output_type": "execute_result"
    }
   ],
   "source": [
    "full_df.groupby(['Produto'])['Venda Líquida'].sum().sort_values()"
   ]
  },
  {
   "cell_type": "code",
   "execution_count": 37,
   "metadata": {},
   "outputs": [
    {
     "data": {
      "text/plain": [
       "<BarContainer object of 24 artists>"
      ]
     },
     "execution_count": 37,
     "metadata": {},
     "output_type": "execute_result"
    },
    {
     "data": {
      "image/png": "[encoded data removed]",
      "text/plain": [
       "<Figure size 1440x360 with 1 Axes>"
      ]
     },
     "metadata": {
      "needs_background": "light"
     },
     "output_type": "display_data"
    }
   ],
   "source": [
    "plt.rcParams[\"figure.figsize\"] = (20, 5)\n",
    "plt.xticks(rotation='vertical')\n",
    "plt.bar(full_df.groupby(['Produto'])['Venda Líquida'].sum().index,full_df.groupby(['Produto'])['Venda Líquida'].sum())"
   ]
  },
  {
   "cell_type": "markdown",
   "metadata": {},
   "source": [
    "    Em seguida, verificaremos a participação em porcentagem de cada faixa etária dos clientes no valor líquido das vendas:"
   ]
  },
  {
   "cell_type": "code",
   "execution_count": 43,
   "metadata": {},
   "outputs": [
    {
     "data": {
      "text/html": [
       "<div>\n",
       "<style scoped>\n",
       "    .dataframe tbody tr th:only-of-type {\n",
       "        vertical-align: middle;\n",
       "    }\n",
       "\n",
       "    .dataframe tbody tr th {\n",
       "        vertical-align: top;\n",
       "    }\n",
       "\n",
       "    .dataframe thead th {\n",
       "        text-align: right;\n",
       "    }\n",
       "</style>\n",
       "<table border=\"1\" class=\"dataframe\">\n",
       "  <thead>\n",
       "    <tr style=\"text-align: right;\">\n",
       "      <th></th>\n",
       "      <th>Venda Líquida</th>\n",
       "    </tr>\n",
       "    <tr>\n",
       "      <th>Classificação Etária</th>\n",
       "      <th></th>\n",
       "    </tr>\n",
       "  </thead>\n",
       "  <tbody>\n",
       "    <tr>\n",
       "      <th>Adulto</th>\n",
       "      <td>89.519254</td>\n",
       "    </tr>\n",
       "    <tr>\n",
       "      <th>Idoso</th>\n",
       "      <td>7.559294</td>\n",
       "    </tr>\n",
       "    <tr>\n",
       "      <th>Adolescente</th>\n",
       "      <td>2.921452</td>\n",
       "    </tr>\n",
       "  </tbody>\n",
       "</table>\n",
       "</div>"
      ],
      "text/plain": [
       "                      Venda Líquida\n",
       "Classificação Etária               \n",
       "Adulto                    89.519254\n",
       "Idoso                      7.559294\n",
       "Adolescente                2.921452"
      ]
     },
     "execution_count": 43,
     "metadata": {},
     "output_type": "execute_result"
    }
   ],
   "source": [
    "((full_df.groupby(['Classificação Etária'])[['Venda Líquida']].sum()/full_df['Venda Líquida'].sum())*100).sort_values('Venda Líquida', ascending=False)"
   ]
  },
  {
   "cell_type": "code",
   "execution_count": 44,
   "metadata": {},
   "outputs": [
    {
     "data": {
      "text/plain": [
       "<matplotlib.legend.Legend at 0x1c59d4ad8e0>"
      ]
     },
     "execution_count": 44,
     "metadata": {},
     "output_type": "execute_result"
    },
    {
     "data": {
      "image/png": "[encoded data removed]",
      "text/plain": [
       "<Figure size 1440x360 with 1 Axes>"
      ]
     },
     "metadata": {},
     "output_type": "display_data"
    }
   ],
   "source": [
    "plt.pie(full_df['Classificação Etária'].value_counts(), data=df, autopct='%1.0f%%',radius=1.5)\n",
    "plt.legend(labels=['Adulto', 'Idoso', 'Adolescente'], bbox_to_anchor=(1.65, 1))"
   ]
  },
  {
   "cell_type": "markdown",
   "metadata": {},
   "source": [
    "    Para análises mais complexas, é possível verificar por exemplo a distribuição dos valores de vendas líquidas para cada tamanho de produto por cada faixa etária, com visualização em um gráfico de barras:"
   ]
  },
  {
   "cell_type": "code",
   "execution_count": 57,
   "metadata": {},
   "outputs": [
    {
     "data": {
      "text/html": [
       "<div>\n",
       "<style scoped>\n",
       "    .dataframe tbody tr th:only-of-type {\n",
       "        vertical-align: middle;\n",
       "    }\n",
       "\n",
       "    .dataframe tbody tr th {\n",
       "        vertical-align: top;\n",
       "    }\n",
       "\n",
       "    .dataframe thead th {\n",
       "        text-align: right;\n",
       "    }\n",
       "</style>\n",
       "<table border=\"1\" class=\"dataframe\">\n",
       "  <thead>\n",
       "    <tr style=\"text-align: right;\">\n",
       "      <th></th>\n",
       "      <th></th>\n",
       "      <th>Venda Líquida</th>\n",
       "    </tr>\n",
       "    <tr>\n",
       "      <th>Classificação Etária</th>\n",
       "      <th>Tamanho</th>\n",
       "      <th></th>\n",
       "    </tr>\n",
       "  </thead>\n",
       "  <tbody>\n",
       "    <tr>\n",
       "      <th rowspan=\"4\" valign=\"top\">Adolescente</th>\n",
       "      <th>GG</th>\n",
       "      <td>1310.540</td>\n",
       "    </tr>\n",
       "    <tr>\n",
       "      <th>M</th>\n",
       "      <td>28914.368</td>\n",
       "    </tr>\n",
       "    <tr>\n",
       "      <th>P</th>\n",
       "      <td>33514.040</td>\n",
       "    </tr>\n",
       "    <tr>\n",
       "      <th>G</th>\n",
       "      <td>141159.368</td>\n",
       "    </tr>\n",
       "    <tr>\n",
       "      <th rowspan=\"4\" valign=\"top\">Adulto</th>\n",
       "      <th>GG</th>\n",
       "      <td>57921.360</td>\n",
       "    </tr>\n",
       "    <tr>\n",
       "      <th>M</th>\n",
       "      <td>999817.392</td>\n",
       "    </tr>\n",
       "    <tr>\n",
       "      <th>P</th>\n",
       "      <td>1061746.924</td>\n",
       "    </tr>\n",
       "    <tr>\n",
       "      <th>G</th>\n",
       "      <td>4159017.632</td>\n",
       "    </tr>\n",
       "    <tr>\n",
       "      <th rowspan=\"4\" valign=\"top\">Idoso</th>\n",
       "      <th>GG</th>\n",
       "      <td>4243.960</td>\n",
       "    </tr>\n",
       "    <tr>\n",
       "      <th>M</th>\n",
       "      <td>93077.880</td>\n",
       "    </tr>\n",
       "    <tr>\n",
       "      <th>P</th>\n",
       "      <td>93414.440</td>\n",
       "    </tr>\n",
       "    <tr>\n",
       "      <th>G</th>\n",
       "      <td>339440.752</td>\n",
       "    </tr>\n",
       "  </tbody>\n",
       "</table>\n",
       "</div>"
      ],
      "text/plain": [
       "                              Venda Líquida\n",
       "Classificação Etária Tamanho               \n",
       "Adolescente          GG            1310.540\n",
       "                     M            28914.368\n",
       "                     P            33514.040\n",
       "                     G           141159.368\n",
       "Adulto               GG           57921.360\n",
       "                     M           999817.392\n",
       "                     P          1061746.924\n",
       "                     G          4159017.632\n",
       "Idoso                GG            4243.960\n",
       "                     M            93077.880\n",
       "                     P            93414.440\n",
       "                     G           339440.752"
      ]
     },
     "execution_count": 57,
     "metadata": {},
     "output_type": "execute_result"
    }
   ],
   "source": [
    "full_df.groupby(['Classificação Etária','Tamanho'])[['Venda Líquida']].sum().sort_values(['Classificação Etária','Venda Líquida'])"
   ]
  },
  {
   "cell_type": "code",
   "execution_count": 60,
   "metadata": {},
   "outputs": [
    {
     "data": {
      "text/plain": [
       "<AxesSubplot:ylabel='Classificação Etária'>"
      ]
     },
     "execution_count": 60,
     "metadata": {},
     "output_type": "execute_result"
    },
    {
     "data": {
      "image/png": "[encoded data removed]",
      "text/plain": [
       "<Figure size 1440x360 with 1 Axes>"
      ]
     },
     "metadata": {
      "needs_background": "light"
     },
     "output_type": "display_data"
    }
   ],
   "source": [
    "(full_df.groupby(['Classificação Etária','Tamanho'])[['Venda Líquida']].sum().sort_values(['Venda Líquida'])).unstack().plot(kind='barh')"
   ]
  },
  {
   "cell_type": "markdown",
   "metadata": {},
   "source": [
    "    Podemos também separar os valores de vendas líquidas para cada produto por faixa etária:"
   ]
  },
  {
   "cell_type": "code",
   "execution_count": 115,
   "metadata": {},
   "outputs": [
    {
     "data": {
      "text/html": [
       "<div>\n",
       "<style scoped>\n",
       "    .dataframe tbody tr th:only-of-type {\n",
       "        vertical-align: middle;\n",
       "    }\n",
       "\n",
       "    .dataframe tbody tr th {\n",
       "        vertical-align: top;\n",
       "    }\n",
       "\n",
       "    .dataframe thead th {\n",
       "        text-align: right;\n",
       "    }\n",
       "</style>\n",
       "<table border=\"1\" class=\"dataframe\">\n",
       "  <thead>\n",
       "    <tr style=\"text-align: right;\">\n",
       "      <th></th>\n",
       "      <th></th>\n",
       "      <th>Venda Líquida</th>\n",
       "    </tr>\n",
       "    <tr>\n",
       "      <th>Classificação Etária</th>\n",
       "      <th>Produto</th>\n",
       "      <th></th>\n",
       "    </tr>\n",
       "  </thead>\n",
       "  <tbody>\n",
       "    <tr>\n",
       "      <th rowspan=\"5\" valign=\"top\">Adulto</th>\n",
       "      <th>BIXDream</th>\n",
       "      <td>807106.440</td>\n",
       "    </tr>\n",
       "    <tr>\n",
       "      <th>Batman</th>\n",
       "      <td>272334.916</td>\n",
       "    </tr>\n",
       "    <tr>\n",
       "      <th>Bazinga</th>\n",
       "      <td>262691.520</td>\n",
       "    </tr>\n",
       "    <tr>\n",
       "      <th>Capitã Marvel</th>\n",
       "      <td>268426.872</td>\n",
       "    </tr>\n",
       "    <tr>\n",
       "      <th>Capitão América</th>\n",
       "      <td>222637.968</td>\n",
       "    </tr>\n",
       "    <tr>\n",
       "      <th>...</th>\n",
       "      <th>...</th>\n",
       "      <td>...</td>\n",
       "    </tr>\n",
       "    <tr>\n",
       "      <th rowspan=\"5\" valign=\"top\">Jovem</th>\n",
       "      <th>Super Mario</th>\n",
       "      <td>10521.504</td>\n",
       "    </tr>\n",
       "    <tr>\n",
       "      <th>Tempestade</th>\n",
       "      <td>8442.896</td>\n",
       "    </tr>\n",
       "    <tr>\n",
       "      <th>Thanos</th>\n",
       "      <td>6547.968</td>\n",
       "    </tr>\n",
       "    <tr>\n",
       "      <th>Thor</th>\n",
       "      <td>3984.288</td>\n",
       "    </tr>\n",
       "    <tr>\n",
       "      <th>Wolverine</th>\n",
       "      <td>8640.576</td>\n",
       "    </tr>\n",
       "  </tbody>\n",
       "</table>\n",
       "<p>72 rows × 1 columns</p>\n",
       "</div>"
      ],
      "text/plain": [
       "                                      Venda Líquida\n",
       "Classificação Etária Produto                       \n",
       "Adulto               BIXDream            807106.440\n",
       "                     Batman              272334.916\n",
       "                     Bazinga             262691.520\n",
       "                     Capitã Marvel       268426.872\n",
       "                     Capitão América     222637.968\n",
       "...                                             ...\n",
       "Jovem                Super Mario          10521.504\n",
       "                     Tempestade            8442.896\n",
       "                     Thanos                6547.968\n",
       "                     Thor                  3984.288\n",
       "                     Wolverine             8640.576\n",
       "\n",
       "[72 rows x 1 columns]"
      ]
     },
     "execution_count": 115,
     "metadata": {},
     "output_type": "execute_result"
    }
   ],
   "source": [
    "full_df.groupby(['Classificação Etária','Produto'])[['Venda Líquida']].sum()"
   ]
  },
  {
   "cell_type": "markdown",
   "metadata": {},
   "source": [
    "    Abaixo, é verificado o valor total para o mês de janeiro de 2020. O mesmo procedimento pode ser aplicado para verificar as vendas de cada mês:"
   ]
  },
  {
   "cell_type": "code",
   "execution_count": 117,
   "metadata": {},
   "outputs": [
    {
     "data": {
      "text/plain": [
       "Venda Líquida    153833.12\n",
       "dtype: float64"
      ]
     },
     "execution_count": 117,
     "metadata": {},
     "output_type": "execute_result"
    }
   ],
   "source": [
    "full_df[(full_df['Data']>='2020-01-01') & (full_df['Data']<='2020-01-31')][['Venda Líquida']].sum()"
   ]
  },
  {
   "cell_type": "markdown",
   "metadata": {},
   "source": [
    "    Por fim, verificamos a participação percentual de cada loja no total do valor líquido das vendas. A visualização é a mesma do gráfico de pizza demonstrado anteriormente:"
   ]
  },
  {
   "cell_type": "code",
   "execution_count": 120,
   "metadata": {},
   "outputs": [
    {
     "data": {
      "text/html": [
       "<div>\n",
       "<style scoped>\n",
       "    .dataframe tbody tr th:only-of-type {\n",
       "        vertical-align: middle;\n",
       "    }\n",
       "\n",
       "    .dataframe tbody tr th {\n",
       "        vertical-align: top;\n",
       "    }\n",
       "\n",
       "    .dataframe thead th {\n",
       "        text-align: right;\n",
       "    }\n",
       "</style>\n",
       "<table border=\"1\" class=\"dataframe\">\n",
       "  <thead>\n",
       "    <tr style=\"text-align: right;\">\n",
       "      <th></th>\n",
       "      <th>Venda Líquida</th>\n",
       "    </tr>\n",
       "    <tr>\n",
       "      <th>Loja</th>\n",
       "      <th></th>\n",
       "    </tr>\n",
       "  </thead>\n",
       "  <tbody>\n",
       "    <tr>\n",
       "      <th>Florianópolis</th>\n",
       "      <td>25.235646</td>\n",
       "    </tr>\n",
       "    <tr>\n",
       "      <th>Rio de Janeiro</th>\n",
       "      <td>20.657591</td>\n",
       "    </tr>\n",
       "    <tr>\n",
       "      <th>Porto Alegre</th>\n",
       "      <td>18.749640</td>\n",
       "    </tr>\n",
       "    <tr>\n",
       "      <th>Curitiba</th>\n",
       "      <td>15.981160</td>\n",
       "    </tr>\n",
       "    <tr>\n",
       "      <th>São Paulo</th>\n",
       "      <td>10.902405</td>\n",
       "    </tr>\n",
       "    <tr>\n",
       "      <th>Belo Horizonte</th>\n",
       "      <td>5.642604</td>\n",
       "    </tr>\n",
       "    <tr>\n",
       "      <th>Online</th>\n",
       "      <td>2.830953</td>\n",
       "    </tr>\n",
       "  </tbody>\n",
       "</table>\n",
       "</div>"
      ],
      "text/plain": [
       "                Venda Líquida\n",
       "Loja                         \n",
       "Florianópolis       25.235646\n",
       "Rio de Janeiro      20.657591\n",
       "Porto Alegre        18.749640\n",
       "Curitiba            15.981160\n",
       "São Paulo           10.902405\n",
       "Belo Horizonte       5.642604\n",
       "Online               2.830953"
      ]
     },
     "execution_count": 120,
     "metadata": {},
     "output_type": "execute_result"
    }
   ],
   "source": [
    "((full_df.groupby(['Loja'])[['Venda Líquida']].sum()/full_df['Venda Líquida'].sum())*100).sort_values('Venda Líquida',ascending=False)"
   ]
  }
 ],
 "metadata": {
  "interpreter": {
   "hash": "c06b424e22e94f2a96cebe0d74eabe3cecc478721a716953765d4cc93811411c"
  },
  "kernelspec": {
   "display_name": "Python 3.9.7 64-bit",
   "language": "python",
   "name": "python3"
  },
  "language_info": {
   "codemirror_mode": {
    "name": "ipython",
    "version": 3
   },
   "file_extension": ".py",
   "mimetype": "text/x-python",
   "name": "python",
   "nbconvert_exporter": "python",
   "pygments_lexer": "ipython3",
   "version": "3.9.7"
  },
  "orig_nbformat": 4
 },
 "nbformat": 4,
 "nbformat_minor": 2
}
